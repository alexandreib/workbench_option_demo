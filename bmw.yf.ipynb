{
 "cells": [
  {
   "cell_type": "code",
   "execution_count": 2,
   "metadata": {},
   "outputs": [
    {
     "data": {
      "text/plain": [
       "0.015304757885578736"
      ]
     },
     "execution_count": 2,
     "metadata": {},
     "output_type": "execute_result"
    }
   ],
   "source": [
    "import yfinance as yf\n",
    "import numpy as np\n",
    "import pandas as pd\n",
    "\n",
    "bmw = yf.Ticker(\"BMW.DE\")\n",
    "hist = bmw.history(period=\"1Y\")\n",
    "hist.to_csv('bmw.hist.1y.csv', index = False)\n",
    "np.log(1 + hist.Close.pct_change()).std()"
   ]
  },
  {
   "cell_type": "code",
   "execution_count": null,
   "metadata": {},
   "outputs": [],
   "source": [
    "bmw = yf.Ticker(\"BMW.DE\")\n",
    "hist = bmw.history(period=\"1Y\")\n",
    "hist.to_csv('bmw.hist.1y.csv', index = False)\n",
    "np.log(1 + hist.Close.pct_change()).std()"
   ]
  }
 ],
 "metadata": {
  "kernelspec": {
   "display_name": ".virtualenv",
   "language": "python",
   "name": "python3"
  },
  "language_info": {
   "codemirror_mode": {
    "name": "ipython",
    "version": 3
   },
   "file_extension": ".py",
   "mimetype": "text/x-python",
   "name": "python",
   "nbconvert_exporter": "python",
   "pygments_lexer": "ipython3",
   "version": "3.11.3"
  },
  "orig_nbformat": 4
 },
 "nbformat": 4,
 "nbformat_minor": 2
}
